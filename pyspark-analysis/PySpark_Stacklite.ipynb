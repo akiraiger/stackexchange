{
 "cells": [
  {
   "cell_type": "code",
   "execution_count": 28,
   "id": "gothic-relevance",
   "metadata": {},
   "outputs": [],
   "source": [
    "from pyspark.sql import SparkSession\n",
    "from pyspark.sql.functions import count, desc, col, max, struct, date_format\n",
    "\n",
    "import matplotlib.pyplot as plt"
   ]
  },
  {
   "cell_type": "code",
   "execution_count": 2,
   "id": "understood-factor",
   "metadata": {},
   "outputs": [],
   "source": [
    "spark = SparkSession.builder.appName(\"spark_app\").getOrCreate()"
   ]
  },
  {
   "cell_type": "code",
   "execution_count": 3,
   "id": "cardiac-omaha",
   "metadata": {},
   "outputs": [],
   "source": [
    "questions_csv_path = \"../dataset/questions.csv\"\n",
    "questions_df = spark.read.format(\"csv\").option(\"inferSchema\", True).option(\"header\", True).load(questions_csv_path)"
   ]
  },
  {
   "cell_type": "code",
   "execution_count": 12,
   "id": "prescribed-template",
   "metadata": {},
   "outputs": [
    {
     "name": "stdout",
     "output_type": "stream",
     "text": [
      "root\n",
      " |-- Id: integer (nullable = true)\n",
      " |-- CreationDate: timestamp (nullable = true)\n",
      " |-- ClosedDate: string (nullable = true)\n",
      " |-- DeletionDate: string (nullable = true)\n",
      " |-- Score: integer (nullable = true)\n",
      " |-- OwnerUserId: string (nullable = true)\n",
      " |-- AnswerCount: string (nullable = true)\n",
      "\n"
     ]
    }
   ],
   "source": [
    "questions_df.printSchema()"
   ]
  },
  {
   "cell_type": "code",
   "execution_count": 14,
   "id": "latin-bible",
   "metadata": {},
   "outputs": [
    {
     "data": {
      "text/plain": [
       "(17203824, 7)"
      ]
     },
     "execution_count": 14,
     "metadata": {},
     "output_type": "execute_result"
    }
   ],
   "source": [
    "(questions_df.count(), len(questions_df.columns))"
   ]
  },
  {
   "cell_type": "code",
   "execution_count": 4,
   "id": "sophisticated-reference",
   "metadata": {},
   "outputs": [
    {
     "name": "stdout",
     "output_type": "stream",
     "text": [
      "+---+-------------------+--------------------+--------------------+-----+-----------+-----------+\n",
      "| Id|       CreationDate|          ClosedDate|        DeletionDate|Score|OwnerUserId|AnswerCount|\n",
      "+---+-------------------+--------------------+--------------------+-----+-----------+-----------+\n",
      "|  1|2008-08-01 04:26:37|                  NA|2011-03-28T00:53:47Z|    1|         NA|          0|\n",
      "|  4|2008-08-01 04:42:52|                  NA|                  NA|  458|          8|         13|\n",
      "|  6|2008-08-01 05:08:08|                  NA|                  NA|  207|          9|          5|\n",
      "|  8|2008-08-01 06:33:19|2013-06-03T04:00:25Z|2015-02-11T08:26:40Z|   42|         NA|          8|\n",
      "|  9|2008-08-01 06:40:59|                  NA|                  NA| 1410|          1|         58|\n",
      "| 11|2008-08-01 06:55:37|                  NA|                  NA| 1129|          1|         33|\n",
      "| 13|2008-08-01 07:42:38|                  NA|                  NA|  451|          9|         25|\n",
      "| 14|2008-08-01 07:59:11|                  NA|                  NA|  290|         11|          8|\n",
      "| 16|2008-08-01 11:59:33|                  NA|                  NA|   78|          2|          5|\n",
      "| 17|2008-08-01 12:09:55|                  NA|                  NA|  114|          2|         11|\n",
      "| 19|2008-08-01 12:21:22|                  NA|                  NA|  222|         13|         21|\n",
      "| 23|2008-08-01 19:09:41|2012-05-18T11:12:42Z|2012-12-13T18:04:53Z|   25|         NA|          8|\n",
      "| 24|2008-08-01 19:12:19|                  NA|                  NA|  100|         22|          6|\n",
      "| 25|2008-08-01 19:13:50|                  NA|                  NA|   94|         23|         10|\n",
      "| 34|2008-08-01 19:30:57|                  NA|                  NA|   51|         NA|          8|\n",
      "| 36|2008-08-01 19:35:56|                  NA|                  NA|   99|         32|          8|\n",
      "| 38|2008-08-01 19:43:11|                  NA|2008-08-01T13:18:31Z|    0|         NA|          1|\n",
      "| 39|2008-08-01 19:43:11|                  NA|                  NA|   55|         33|          2|\n",
      "| 40|2008-08-01 19:44:02|                  NA|2009-08-24T01:44:32Z|    0|         NA|          0|\n",
      "| 42|2008-08-01 19:50:18|                  NA|                  NA|  212|         37|          8|\n",
      "+---+-------------------+--------------------+--------------------+-----+-----------+-----------+\n",
      "only showing top 20 rows\n",
      "\n"
     ]
    }
   ],
   "source": [
    "questions_df.show()"
   ]
  },
  {
   "cell_type": "code",
   "execution_count": 6,
   "id": "sharing-modification",
   "metadata": {},
   "outputs": [],
   "source": [
    "questions_tags_csv_path = \"../dataset/questions_tags.csv\"\n",
    "questions_tags_df = spark.read.format(\"csv\").option(\"inferSchema\", True).option(\"header\", True).load(questions_tags_csv_path)"
   ]
  },
  {
   "cell_type": "code",
   "execution_count": 9,
   "id": "serious-opera",
   "metadata": {},
   "outputs": [
    {
     "name": "stdout",
     "output_type": "stream",
     "text": [
      "root\n",
      " |-- Id: integer (nullable = true)\n",
      " |-- Tag: string (nullable = true)\n",
      "\n"
     ]
    }
   ],
   "source": [
    "questions_tags_df.printSchema()"
   ]
  },
  {
   "cell_type": "code",
   "execution_count": 15,
   "id": "offshore-desperate",
   "metadata": {},
   "outputs": [
    {
     "data": {
      "text/plain": [
       "(50576842, 2)"
      ]
     },
     "execution_count": 15,
     "metadata": {},
     "output_type": "execute_result"
    }
   ],
   "source": [
    "(questions_tags_df.count(), len(questions_tags_df.columns))"
   ]
  },
  {
   "cell_type": "code",
   "execution_count": 7,
   "id": "current-mechanism",
   "metadata": {},
   "outputs": [
    {
     "name": "stdout",
     "output_type": "stream",
     "text": [
      "+---+-------------------+\n",
      "| Id|                Tag|\n",
      "+---+-------------------+\n",
      "|  1|               data|\n",
      "|  4|                 c#|\n",
      "|  4|           winforms|\n",
      "|  4|    type-conversion|\n",
      "|  4|            decimal|\n",
      "|  4|            opacity|\n",
      "|  6|               html|\n",
      "|  6|                css|\n",
      "|  6|               css3|\n",
      "|  6|internet-explorer-7|\n",
      "|  8|                 c#|\n",
      "|  8|    code-generation|\n",
      "|  8|                 j#|\n",
      "|  8|           visualj#|\n",
      "|  9|                 c#|\n",
      "|  9|               .net|\n",
      "|  9|           datetime|\n",
      "| 11|                 c#|\n",
      "| 11|           datetime|\n",
      "| 11|           datediff|\n",
      "+---+-------------------+\n",
      "only showing top 20 rows\n",
      "\n"
     ]
    }
   ],
   "source": [
    "questions_tags_df.show()"
   ]
  },
  {
   "cell_type": "code",
   "execution_count": 30,
   "id": "chicken-sector",
   "metadata": {},
   "outputs": [],
   "source": [
    "data = questions_df.join(questions_tags_df, how=\"inner\", on=[\"Id\"]).withColumn(\"IsWeekend\", date_format(\"CreationDate\", 'EEE').isin([\"Sat\", \"Sun\"]).cast(\"int\"))"
   ]
  },
  {
   "cell_type": "code",
   "execution_count": 31,
   "id": "efficient-highway",
   "metadata": {},
   "outputs": [
    {
     "name": "stdout",
     "output_type": "stream",
     "text": [
      "root\n",
      " |-- Id: integer (nullable = true)\n",
      " |-- CreationDate: timestamp (nullable = true)\n",
      " |-- ClosedDate: string (nullable = true)\n",
      " |-- DeletionDate: string (nullable = true)\n",
      " |-- Score: integer (nullable = true)\n",
      " |-- OwnerUserId: string (nullable = true)\n",
      " |-- AnswerCount: string (nullable = true)\n",
      " |-- Tag: string (nullable = true)\n",
      " |-- IsWeekend: integer (nullable = true)\n",
      "\n"
     ]
    }
   ],
   "source": [
    "data.printSchema()"
   ]
  },
  {
   "cell_type": "code",
   "execution_count": 25,
   "id": "amino-tuner",
   "metadata": {},
   "outputs": [
    {
     "name": "stdout",
     "output_type": "stream",
     "text": [
      "+----------+-------+\n",
      "|       Tag|  Count|\n",
      "+----------+-------+\n",
      "|javascript|1649631|\n",
      "|      java|1563820|\n",
      "|       php|1365600|\n",
      "|        c#|1321027|\n",
      "|   android|1288338|\n",
      "|    jquery|1011324|\n",
      "|    python| 854172|\n",
      "|      html| 776512|\n",
      "|       ios| 635227|\n",
      "|       c++| 627341|\n",
      "+----------+-------+\n",
      "\n"
     ]
    }
   ],
   "source": [
    "most_used_tags = data.select(\"Tag\").groupby(\"Tag\").agg(count(\"*\").alias(\"Count\")).orderBy(desc(\"Count\")).limit(10)\n",
    "most_used_tags.show()"
   ]
  },
  {
   "cell_type": "code",
   "execution_count": 33,
   "id": "modified-lexington",
   "metadata": {},
   "outputs": [
    {
     "name": "stdout",
     "output_type": "stream",
     "text": [
      "+----------+-------+\n",
      "|       Tag|  Count|\n",
      "+----------+-------+\n",
      "|javascript|1343393|\n",
      "|      java|1261313|\n",
      "|        c#|1101023|\n",
      "+----------+-------+\n",
      "\n"
     ]
    }
   ],
   "source": [
    "most_used_tags_weekdays = data.select(\"Tag\").filter(data.IsWeekend == 0).groupby(\"Tag\").agg(count(\"*\").alias(\"Count\")).orderBy(desc(\"Count\")).limit(3)\n",
    "most_used_tags_weekdays.show()"
   ]
  },
  {
   "cell_type": "code",
   "execution_count": 34,
   "id": "illegal-scheme",
   "metadata": {},
   "outputs": [
    {
     "name": "stdout",
     "output_type": "stream",
     "text": [
      "+----------+------+\n",
      "|       Tag| Count|\n",
      "+----------+------+\n",
      "|javascript|306238|\n",
      "|      java|302507|\n",
      "|       php|277940|\n",
      "+----------+------+\n",
      "\n"
     ]
    }
   ],
   "source": [
    "most_used_tags_weekend = data.select(\"Tag\").filter(data.IsWeekend == 1).groupby(\"Tag\").agg(count(\"*\").alias(\"Count\")).orderBy(desc(\"Count\")).limit(3)\n",
    "most_used_tags_weekend.show()"
   ]
  },
  {
   "cell_type": "code",
   "execution_count": null,
   "id": "designed-secretariat",
   "metadata": {},
   "outputs": [],
   "source": []
  }
 ],
 "metadata": {
  "kernelspec": {
   "display_name": "Python 3",
   "language": "python",
   "name": "python3"
  },
  "language_info": {
   "codemirror_mode": {
    "name": "ipython",
    "version": 3
   },
   "file_extension": ".py",
   "mimetype": "text/x-python",
   "name": "python",
   "nbconvert_exporter": "python",
   "pygments_lexer": "ipython3",
   "version": "3.9.1"
  }
 },
 "nbformat": 4,
 "nbformat_minor": 5
}
